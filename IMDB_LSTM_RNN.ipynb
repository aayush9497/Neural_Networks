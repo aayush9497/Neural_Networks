{
 "cells": [
  {
   "cell_type": "code",
   "execution_count": 8,
   "metadata": {},
   "outputs": [],
   "source": [
    "import numpy as np\n",
    "import pandas as pd\n",
    "import os\n",
    "#from keras.preprocessing import sequence\n",
    "#from keras.preprocessing.text import Tokenizer\n",
    "#from keras.layers import Dense ,Dropout\n",
    "#from keras.models import Sequential\n",
    "#from keras.layers import Embedding ,SimpleRNN,LSTM\n",
    "import matplotlib.pyplot as plt\n",
    "import tensorflow.keras as keras"
   ]
  },
  {
   "cell_type": "code",
   "execution_count": 16,
   "metadata": {},
   "outputs": [],
   "source": [
    "data = pd.read_csv(r'E:\\IMDB Dataset.csv')"
   ]
  },
  {
   "cell_type": "code",
   "execution_count": 17,
   "metadata": {},
   "outputs": [],
   "source": [
    "data['sentiment']=data['sentiment'].replace(to_replace=['positive','negative'],value=[1,0])"
   ]
  },
  {
   "cell_type": "code",
   "execution_count": 18,
   "metadata": {},
   "outputs": [],
   "source": [
    "x_train = data.iloc[0:37500,0]\n",
    "y_train = np.asarray(data.iloc[0:37500,1])\n",
    "\n",
    "x_test = data.iloc[37500:,0]\n",
    "y_test = np.asarray(data.iloc[37500:,1])"
   ]
  },
  {
   "cell_type": "code",
   "execution_count": 19,
   "metadata": {},
   "outputs": [],
   "source": [
    "max_feature = 10000\n",
    "maxlen = 100\n",
    "#batch_size = 32\n",
    "time_steps_to_unroll=100"
   ]
  },
  {
   "cell_type": "code",
   "execution_count": 20,
   "metadata": {},
   "outputs": [],
   "source": [
    "tokenizer = keras.preprocessing.text.Tokenizer(num_words=max_feature)"
   ]
  },
  {
   "cell_type": "code",
   "execution_count": 21,
   "metadata": {},
   "outputs": [],
   "source": [
    "tokenizer.fit_on_texts(x_train)  #Builds the word index\n",
    "#Turns strings into lists of integer indices\n",
    "train_sequences = tokenizer.texts_to_sequences(x_train)\n",
    "train_word_index = tokenizer.word_index"
   ]
  },
  {
   "cell_type": "code",
   "execution_count": 22,
   "metadata": {},
   "outputs": [],
   "source": [
    "'''Transforming Training data which is in text into a sequence of integer. '''\n",
    "tokenizer.fit_on_texts(x_test)  #Builds the word index\n",
    "#Turns strings into lists of integer indices\n",
    "test_sequences = tokenizer.texts_to_sequences(x_test)\n",
    "test_word_index = tokenizer.word_index #Return word index for each word"
   ]
  },
  {
   "cell_type": "code",
   "execution_count": 23,
   "metadata": {},
   "outputs": [],
   "source": [
    "'''This function transforms a list of sequences (lists of integers) \n",
    "into a 2D Numpy array.'''\n",
    "x_train = keras.preprocessing.sequence.pad_sequences(train_sequences,maxlen=maxlen)\n",
    "x_test = keras.preprocessing.sequence.pad_sequences(test_sequences,maxlen=maxlen)"
   ]
  },
  {
   "cell_type": "code",
   "execution_count": 24,
   "metadata": {},
   "outputs": [],
   "source": [
    "glove_dir = r'E:\\glove.6B'\n",
    "\n",
    "embedding_index = {}\n",
    "f=open(os.path.join(glove_dir,'glove.6B.100d.txt'),encoding='utf8')\n",
    "for line in f:\n",
    "    values = line.split()\n",
    "    word = values[0]\n",
    "    coefs = np.asarray(values[1:],dtype='float32')\n",
    "    embedding_index[word] = coefs\n",
    "f.close()"
   ]
  },
  {
   "cell_type": "code",
   "execution_count": 25,
   "metadata": {},
   "outputs": [],
   "source": [
    "#Training data embedding matrix\n",
    "embedding_dim=100\n",
    "embedding_matrix_train = np.zeros((max_feature,embedding_dim))\n",
    "for word, i in train_word_index.items():\n",
    "    if i<max_feature:\n",
    "        embedding_vector_train = embedding_index.get(word)\n",
    "        if embedding_vector_train is not None:\n",
    "            embedding_matrix_train[i] = embedding_vector_train"
   ]
  },
  {
   "cell_type": "code",
   "execution_count": 56,
   "metadata": {},
   "outputs": [
    {
     "name": "stdout",
     "output_type": "stream",
     "text": [
      "Train on 30000 samples, validate on 7500 samples\n",
      "Epoch 1/10\n",
      "30000/30000 [==============================] - 183s 6ms/step - loss: 0.5974 - acc: 0.6746 - val_loss: 0.5513 - val_acc: 0.7283\n",
      "Epoch 2/10\n",
      "30000/30000 [==============================] - 189s 6ms/step - loss: 0.4713 - acc: 0.7766 - val_loss: 0.4489 - val_acc: 0.7957\n",
      "Epoch 3/10\n",
      "30000/30000 [==============================] - 187s 6ms/step - loss: 0.4247 - acc: 0.8031 - val_loss: 0.4193 - val_acc: 0.8028\n",
      "Epoch 4/10\n",
      "30000/30000 [==============================] - 188s 6ms/step - loss: 0.3914 - acc: 0.8227 - val_loss: 0.3912 - val_acc: 0.8209\n",
      "Epoch 5/10\n",
      "30000/30000 [==============================] - 188s 6ms/step - loss: 0.3673 - acc: 0.8346 - val_loss: 0.3922 - val_acc: 0.8215\n",
      "Epoch 6/10\n",
      "30000/30000 [==============================] - 186s 6ms/step - loss: 0.3511 - acc: 0.8415 - val_loss: 0.3589 - val_acc: 0.8363\n",
      "Epoch 7/10\n",
      "30000/30000 [==============================] - 188s 6ms/step - loss: 0.3307 - acc: 0.8543 - val_loss: 0.3615 - val_acc: 0.8425\n",
      "Epoch 8/10\n",
      "30000/30000 [==============================] - 188s 6ms/step - loss: 0.3154 - acc: 0.8603 - val_loss: 0.3373 - val_acc: 0.8464\n",
      "Epoch 9/10\n",
      "30000/30000 [==============================] - 185s 6ms/step - loss: 0.3023 - acc: 0.8691 - val_loss: 0.3417 - val_acc: 0.8531\n",
      "Epoch 10/10\n",
      "30000/30000 [==============================] - 185s 6ms/step - loss: 0.2896 - acc: 0.8758 - val_loss: 0.3367 - val_acc: 0.8543\n"
     ]
    }
   ],
   "source": [
    "model = keras.models.Sequential()\n",
    "model.add(keras.layers.Embedding(max_feature,embedding_dim,input_length=time_steps_to_unroll,weights=[embedding_matrix_train]))\n",
    "model.add(keras.layers.LSTM(embedding_dim,return_sequences=True))\n",
    "model.add(keras.layers.LSTM(embedding_dim))\n",
    "#model.add(keras.layers.Dropout(0.2))\n",
    "model.add(keras.layers.Dense(1,activation='sigmoid'))\n",
    "model.layers[0].trainable = False\n",
    "model.compile(optimizer = 'Adam',loss = 'binary_crossentropy',metrics = ['acc'])\n",
    "history = model.fit(x_train,y_train,epochs = 10,batch_size = 256,validation_split = 0.2)"
   ]
  },
  {
   "cell_type": "code",
   "execution_count": 57,
   "metadata": {},
   "outputs": [],
   "source": [
    "acc = history.history['acc']\n",
    "val_acc = history.history['val_acc']\n",
    "loss = history.history['loss']\n",
    "val_loss = history.history['val_loss']\n",
    "epochs = range(1,len(acc)+1)"
   ]
  },
  {
   "cell_type": "code",
   "execution_count": 58,
   "metadata": {},
   "outputs": [
    {
     "data": {
      "text/plain": [
       "<matplotlib.legend.Legend at 0xd694ca3908>"
      ]
     },
     "execution_count": 58,
     "metadata": {},
     "output_type": "execute_result"
    },
    {
     "data": {
      "image/png": "[encoded data removed]",
      "text/plain": [
       "<Figure size 432x288 with 1 Axes>"
      ]
     },
     "metadata": {
      "needs_background": "light"
     },
     "output_type": "display_data"
    },
    {
     "data": {
      "image/png": "[encoded data removed]",
      "text/plain": [
       "<Figure size 432x288 with 1 Axes>"
      ]
     },
     "metadata": {
      "needs_background": "light"
     },
     "output_type": "display_data"
    }
   ],
   "source": [
    "plt.plot(epochs,acc,'bo',label='Training accuacy')\n",
    "plt.plot(epochs,val_acc,'b',label = 'Validation accuracy')\n",
    "plt.title('Training and Validation accuracy')\n",
    "plt.legend()\n",
    "plt.figure()\n",
    "plt.plot(epochs,loss,'bo',label='Training loss')\n",
    "plt.plot(epochs,val_loss,label='Validation loss')\n",
    "plt.title('Training and Validation loss')\n",
    "plt.legend()"
   ]
  },
  {
   "cell_type": "code",
   "execution_count": 59,
   "metadata": {},
   "outputs": [],
   "source": [
    "results=model.predict(x_test,batch_size=128)"
   ]
  },
  {
   "cell_type": "code",
   "execution_count": 52,
   "metadata": {},
   "outputs": [],
   "source": [
    "predicted_labels = []\n",
    "for i in range(len(results)):\n",
    "    if(results[i]<0.50):\n",
    "        predicted_labels.append(0)\n",
    "    else:\n",
    "        predicted_labels.append(1)\n",
    "    "
   ]
  },
  {
   "cell_type": "code",
   "execution_count": 53,
   "metadata": {},
   "outputs": [],
   "source": [
    "boolean_results = np.count_nonzero(predicted_labels == y_test)"
   ]
  },
  {
   "cell_type": "code",
   "execution_count": 54,
   "metadata": {},
   "outputs": [],
   "source": [
    "Testing_accuracy = boolean_results/y_test.shape[0]"
   ]
  },
  {
   "cell_type": "code",
   "execution_count": 55,
   "metadata": {},
   "outputs": [
    {
     "data": {
      "text/plain": [
       "0.59024"
      ]
     },
     "execution_count": 55,
     "metadata": {},
     "output_type": "execute_result"
    }
   ],
   "source": [
    "Testing_accuracy"
   ]
  },
  {
   "cell_type": "code",
   "execution_count": null,
   "metadata": {},
   "outputs": [],
   "source": []
  }
 ],
 "metadata": {
  "kernelspec": {
   "display_name": "Python 3",
   "language": "python",
   "name": "python3"
  },
  "language_info": {
   "codemirror_mode": {
    "name": "ipython",
    "version": 3
   },
   "file_extension": ".py",
   "mimetype": "text/x-python",
   "name": "python",
   "nbconvert_exporter": "python",
   "pygments_lexer": "ipython3",
   "version": "3.6.5"
  }
 },
 "nbformat": 4,
 "nbformat_minor": 2
}
