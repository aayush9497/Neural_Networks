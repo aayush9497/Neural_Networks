{
 "cells": [
  {
   "cell_type": "code",
   "execution_count": 1,
   "metadata": {},
   "outputs": [],
   "source": [
    "import cv2\n",
    "import numpy as np\n",
    "import tensorflow as tf\n",
    "import tensorflow.keras as keras"
   ]
  },
  {
   "cell_type": "code",
   "execution_count": 2,
   "metadata": {},
   "outputs": [],
   "source": [
    "model=keras.applications.VGG19()"
   ]
  },
  {
   "cell_type": "code",
   "execution_count": null,
   "metadata": {},
   "outputs": [],
   "source": [
    "cam=cv2.VideoCapture(0)\n",
    "while True:\n",
    "    ret,frame=cam.read()\n",
    "    k=cv2.waitKey(1)\n",
    "    \n",
    "    if k%256==27 or ret == False:\n",
    "        break\n",
    "        \n",
    "    frame_pred=cv2.resize(frame,(224,224))\n",
    "    frame_pred=cv2.cvtColor(frame_pred,cv2.COLOR_BGR2RGB).astype(np.float32)\n",
    "    frame_pred=frame_pred.reshape((1,)+ frame_pred.shape)\n",
    "    frame_pred=keras.applications.vgg19.preprocess_input(frame_pred)\n",
    "    pred=model.predict(frame_pred)\n",
    "    label_id,label,score=keras.applications.vgg19.decode_predictions(pred)[0][0]\n",
    "    \n",
    "    cv2.putText(frame,'%s with Probablity: %.2f'%(label,score),(25,25),cv2.FONT_HERSHEY_DUPLEX,0.9,(0,0,250),2)\n",
    "    cv2.imshow('Computer vision on a budget',frame)\n",
    "\n",
    "cam.release()\n",
    "cv2.destroyAllWindows()\n",
    "    "
   ]
  },
  {
   "cell_type": "code",
   "execution_count": null,
   "metadata": {},
   "outputs": [],
   "source": []
  }
 ],
 "metadata": {
  "kernelspec": {
   "display_name": "Python 3",
   "language": "python",
   "name": "python3"
  },
  "language_info": {
   "codemirror_mode": {
    "name": "ipython",
    "version": 3
   },
   "file_extension": ".py",
   "mimetype": "text/x-python",
   "name": "python",
   "nbconvert_exporter": "python",
   "pygments_lexer": "ipython3",
   "version": "3.6.5"
  }
 },
 "nbformat": 4,
 "nbformat_minor": 2
}
