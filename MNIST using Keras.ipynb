{
 "cells": [
  {
   "cell_type": "code",
   "execution_count": 1,
   "metadata": {},
   "outputs": [],
   "source": [
    "import numpy as np\n",
    "import pandas as pd\n",
    "import tensorflow as tf\n",
    "import tensorflow.keras as keras"
   ]
  },
  {
   "cell_type": "code",
   "execution_count": 2,
   "metadata": {},
   "outputs": [
    {
     "name": "stdout",
     "output_type": "stream",
     "text": [
      "1.9.0\n"
     ]
    }
   ],
   "source": [
    "print(tf.__version__)"
   ]
  },
  {
   "cell_type": "code",
   "execution_count": 3,
   "metadata": {},
   "outputs": [],
   "source": [
    "raw_data=pd.read_csv('train_mnist.csv')"
   ]
  },
  {
   "cell_type": "code",
   "execution_count": 4,
   "metadata": {},
   "outputs": [],
   "source": [
    "training_data=raw_data.iloc[0:int(0.75*raw_data.shape[0])]"
   ]
  },
  {
   "cell_type": "code",
   "execution_count": 5,
   "metadata": {},
   "outputs": [],
   "source": [
    "testing_data=raw_data.iloc[int(0.75*raw_data.shape[0]):]"
   ]
  },
  {
   "cell_type": "code",
   "execution_count": 6,
   "metadata": {},
   "outputs": [],
   "source": [
    "training_labels=training_data.pop('label')"
   ]
  },
  {
   "cell_type": "code",
   "execution_count": 7,
   "metadata": {},
   "outputs": [],
   "source": [
    "testing_labels=testing_data.pop('label')"
   ]
  },
  {
   "cell_type": "code",
   "execution_count": 8,
   "metadata": {},
   "outputs": [],
   "source": [
    "x_train=np.array(training_data)"
   ]
  },
  {
   "cell_type": "code",
   "execution_count": 9,
   "metadata": {},
   "outputs": [],
   "source": [
    "x_test=np.array(testing_data)"
   ]
  },
  {
   "cell_type": "code",
   "execution_count": 10,
   "metadata": {},
   "outputs": [],
   "source": [
    "training_labels=np.array(training_labels)"
   ]
  },
  {
   "cell_type": "code",
   "execution_count": 11,
   "metadata": {},
   "outputs": [],
   "source": [
    "testing_labels=np.array(testing_labels)"
   ]
  },
  {
   "cell_type": "code",
   "execution_count": 12,
   "metadata": {},
   "outputs": [],
   "source": [
    "to_cat = keras.utils.to_categorical"
   ]
  },
  {
   "cell_type": "code",
   "execution_count": 13,
   "metadata": {},
   "outputs": [],
   "source": [
    "y_train=to_cat(training_labels,num_classes=10)  # one hot encoded"
   ]
  },
  {
   "cell_type": "code",
   "execution_count": 14,
   "metadata": {},
   "outputs": [
    {
     "data": {
      "text/plain": [
       "(31500, 10)"
      ]
     },
     "execution_count": 14,
     "metadata": {},
     "output_type": "execute_result"
    }
   ],
   "source": [
    "y_train.shape"
   ]
  },
  {
   "cell_type": "code",
   "execution_count": 22,
   "metadata": {},
   "outputs": [],
   "source": [
    "nn_model=keras.models.Sequential()"
   ]
  },
  {
   "cell_type": "code",
   "execution_count": 23,
   "metadata": {},
   "outputs": [],
   "source": [
    "nn_model.add(keras.layers.Dense(units=x_train.shape[1],activation=keras.activations.relu,\n",
    "                                kernel_initializer=keras.initializers.he_uniform(),\n",
    "                                kernel_regularizer=keras.regularizers.l2(),\n",
    "                                activity_regularizer=keras.layers.BatchNormalization(),\n",
    "                                input_shape=(x_train.shape[1],)))"
   ]
  },
  {
   "cell_type": "code",
   "execution_count": 24,
   "metadata": {},
   "outputs": [],
   "source": [
    "nn_model.add(keras.layers.Dense(units=x_train.shape[1],activation=keras.activations.relu,\n",
    "                                kernel_initializer=keras.initializers.he_uniform(),\n",
    "                                kernel_regularizer=keras.regularizers.l2(),\n",
    "                                activity_regularizer=keras.layers.BatchNormalization()))"
   ]
  },
  {
   "cell_type": "code",
   "execution_count": 25,
   "metadata": {},
   "outputs": [],
   "source": [
    "nn_model.add(keras.layers.Dense(units=10,activation=keras.activations.softmax))"
   ]
  },
  {
   "cell_type": "code",
   "execution_count": 26,
   "metadata": {},
   "outputs": [],
   "source": [
    "nn_model.compile(optimizer=keras.optimizers.Adam(),loss=keras.losses.categorical_crossentropy,metrics=['accuracy'])"
   ]
  },
  {
   "cell_type": "code",
   "execution_count": 27,
   "metadata": {},
   "outputs": [
    {
     "name": "stdout",
     "output_type": "stream",
     "text": [
      "Train on 25200 samples, validate on 6300 samples\n",
      "Epoch 1/30\n",
      "25200/25200 [==============================] - 21s 847us/step - loss: 19.8229 - acc: 0.7187 - val_loss: 9.7896 - val_acc: 0.8503\n",
      "Epoch 2/30\n",
      "25200/25200 [==============================] - 21s 846us/step - loss: 6.6535 - acc: 0.9023 - val_loss: 4.4799 - val_acc: 0.9114\n",
      "Epoch 3/30\n",
      "25200/25200 [==============================] - 21s 847us/step - loss: 3.2680 - acc: 0.9192 - val_loss: 2.3906 - val_acc: 0.9122\n",
      "Epoch 4/30\n",
      "25200/25200 [==============================] - 21s 842us/step - loss: 1.8261 - acc: 0.9272 - val_loss: 1.4416 - val_acc: 0.9217\n",
      "Epoch 5/30\n",
      "25200/25200 [==============================] - 22s 857us/step - loss: 1.1618 - acc: 0.9322 - val_loss: 0.9847 - val_acc: 0.9281\n",
      "Epoch 6/30\n",
      "25200/25200 [==============================] - 22s 875us/step - loss: 0.8233 - acc: 0.9353 - val_loss: 0.7866 - val_acc: 0.9200\n",
      "Epoch 7/30\n",
      "25200/25200 [==============================] - 22s 886us/step - loss: 0.6712 - acc: 0.9355 - val_loss: 0.7083 - val_acc: 0.9195\n",
      "Epoch 8/30\n",
      "25200/25200 [==============================] - 22s 892us/step - loss: 0.5745 - acc: 0.9394 - val_loss: 0.5898 - val_acc: 0.9254\n",
      "Epoch 9/30\n",
      "25200/25200 [==============================] - 24s 935us/step - loss: 0.5316 - acc: 0.9373 - val_loss: 0.5614 - val_acc: 0.9206 - loss: 0 - ETA: 7s - l - ETA: 1s - loss:\n",
      "Epoch 10/30\n",
      "25200/25200 [==============================] - 22s 873us/step - loss: 0.5030 - acc: 0.9375 - val_loss: 0.5867 - val_acc: 0.9156\n",
      "Epoch 11/30\n",
      "25200/25200 [==============================] - 22s 874us/step - loss: 0.4731 - acc: 0.9410 - val_loss: 0.5125 - val_acc: 0.9298\n",
      "Epoch 12/30\n",
      "25200/25200 [==============================] - 22s 888us/step - loss: 0.4636 - acc: 0.9405 - val_loss: 0.5634 - val_acc: 0.9156\n",
      "Epoch 13/30\n",
      "25200/25200 [==============================] - 21s 835us/step - loss: 0.4559 - acc: 0.9421 - val_loss: 0.5369 - val_acc: 0.9206\n",
      "Epoch 14/30\n",
      "25200/25200 [==============================] - 21s 824us/step - loss: 0.4468 - acc: 0.9418 - val_loss: 0.5422 - val_acc: 0.9148\n",
      "Epoch 15/30\n",
      "25200/25200 [==============================] - 21s 832us/step - loss: 0.4526 - acc: 0.9413 - val_loss: 0.5179 - val_acc: 0.9214\n",
      "Epoch 16/30\n",
      "25200/25200 [==============================] - 21s 851us/step - loss: 0.4434 - acc: 0.9421 - val_loss: 0.5662 - val_acc: 0.9068\n",
      "Epoch 17/30\n",
      "25200/25200 [==============================] - 21s 826us/step - loss: 0.4449 - acc: 0.9433 - val_loss: 0.5350 - val_acc: 0.9278\n",
      "Epoch 18/30\n",
      "25200/25200 [==============================] - 21s 831us/step - loss: 0.4325 - acc: 0.9462 - val_loss: 0.5295 - val_acc: 0.9190\n",
      "Epoch 19/30\n",
      "25200/25200 [==============================] - 21s 829us/step - loss: 0.4479 - acc: 0.9404 - val_loss: 0.5174 - val_acc: 0.9240\n",
      "Epoch 20/30\n",
      "25200/25200 [==============================] - 21s 830us/step - loss: 0.4604 - acc: 0.9405 - val_loss: 0.5465 - val_acc: 0.9213\n",
      "Epoch 21/30\n",
      "25200/25200 [==============================] - 21s 843us/step - loss: 0.4451 - acc: 0.9426 - val_loss: 0.5139 - val_acc: 0.9314\n",
      "Epoch 22/30\n",
      "25200/25200 [==============================] - 21s 827us/step - loss: 0.4235 - acc: 0.9461 - val_loss: 0.5536 - val_acc: 0.9144\n",
      "Epoch 23/30\n",
      "25200/25200 [==============================] - 21s 819us/step - loss: 0.4312 - acc: 0.9448 - val_loss: 0.5489 - val_acc: 0.9189\n",
      "Epoch 24/30\n",
      "25200/25200 [==============================] - 21s 824us/step - loss: 0.4258 - acc: 0.9452 - val_loss: 0.5481 - val_acc: 0.9154\n",
      "Epoch 25/30\n",
      "25200/25200 [==============================] - 21s 824us/step - loss: 0.4324 - acc: 0.9427 - val_loss: 0.5558 - val_acc: 0.8987\n",
      "Epoch 26/30\n",
      "25200/25200 [==============================] - 21s 827us/step - loss: 0.4353 - acc: 0.9437 - val_loss: 0.5092 - val_acc: 0.9200\n",
      "Epoch 27/30\n",
      "25200/25200 [==============================] - 21s 826us/step - loss: 0.4350 - acc: 0.9438 - val_loss: 0.5507 - val_acc: 0.9179\n",
      "Epoch 28/30\n",
      "25200/25200 [==============================] - 21s 831us/step - loss: 0.4343 - acc: 0.9465 - val_loss: 0.5064 - val_acc: 0.9249\n",
      "Epoch 29/30\n",
      "25200/25200 [==============================] - 21s 830us/step - loss: 0.4268 - acc: 0.9472 - val_loss: 0.5106 - val_acc: 0.9265\n",
      "Epoch 30/30\n",
      "25200/25200 [==============================] - 21s 830us/step - loss: 0.4268 - acc: 0.9445 - val_loss: 0.5054 - val_acc: 0.9262\n"
     ]
    },
    {
     "data": {
      "text/plain": [
       "<tensorflow.python.keras.callbacks.History at 0xdaaad385c0>"
      ]
     },
     "execution_count": 27,
     "metadata": {},
     "output_type": "execute_result"
    }
   ],
   "source": [
    "nn_model.fit(x=x_train,y=y_train,batch_size=100,epochs=30,validation_split=0.2)"
   ]
  },
  {
   "cell_type": "code",
   "execution_count": 28,
   "metadata": {},
   "outputs": [],
   "source": [
    "y_test=to_cat(testing_labels,num_classes=10)"
   ]
  },
  {
   "cell_type": "code",
   "execution_count": 29,
   "metadata": {},
   "outputs": [],
   "source": [
    "res=nn_model.predict(x_test)"
   ]
  },
  {
   "cell_type": "code",
   "execution_count": 30,
   "metadata": {},
   "outputs": [],
   "source": [
    "classes_predicted=np.argmax(res,axis=1)"
   ]
  },
  {
   "cell_type": "code",
   "execution_count": 31,
   "metadata": {},
   "outputs": [
    {
     "data": {
      "text/plain": [
       "array([6, 1, 9, ..., 7, 6, 9], dtype=int64)"
      ]
     },
     "execution_count": 31,
     "metadata": {},
     "output_type": "execute_result"
    }
   ],
   "source": [
    "classes_predicted"
   ]
  },
  {
   "cell_type": "code",
   "execution_count": 32,
   "metadata": {},
   "outputs": [],
   "source": [
    "correct_count=np.count_nonzero(classes_predicted==testing_labels)"
   ]
  },
  {
   "cell_type": "code",
   "execution_count": 33,
   "metadata": {},
   "outputs": [],
   "source": [
    "accuracy=correct_count/x_test.shape[0]\n"
   ]
  },
  {
   "cell_type": "code",
   "execution_count": 34,
   "metadata": {},
   "outputs": [
    {
     "data": {
      "text/plain": [
       "0.9255238095238095"
      ]
     },
     "execution_count": 34,
     "metadata": {},
     "output_type": "execute_result"
    }
   ],
   "source": [
    "accuracy"
   ]
  },
  {
   "cell_type": "code",
   "execution_count": 37,
   "metadata": {},
   "outputs": [],
   "source": [
    "from sklearn.metrics import classification_report"
   ]
  },
  {
   "cell_type": "code",
   "execution_count": 38,
   "metadata": {},
   "outputs": [
    {
     "name": "stdout",
     "output_type": "stream",
     "text": [
      "             precision    recall  f1-score   support\n",
      "\n",
      "          0       0.92      0.98      0.95      1063\n",
      "          1       0.97      0.97      0.97      1182\n",
      "          2       0.92      0.89      0.91      1005\n",
      "          3       0.95      0.89      0.92      1108\n",
      "          4       0.96      0.90      0.93       985\n",
      "          5       0.90      0.91      0.91       940\n",
      "          6       0.97      0.94      0.95      1042\n",
      "          7       0.98      0.93      0.95      1111\n",
      "          8       0.79      0.95      0.86      1021\n",
      "          9       0.91      0.88      0.90      1043\n",
      "\n",
      "avg / total       0.93      0.93      0.93     10500\n",
      "\n"
     ]
    }
   ],
   "source": [
    "print(classification_report(testing_labels,classes_predicted))"
   ]
  },
  {
   "cell_type": "code",
   "execution_count": null,
   "metadata": {},
   "outputs": [],
   "source": [
    "nn_model.save(r'C:/Users/admin/Desktop/m.h5')"
   ]
  },
  {
   "cell_type": "code",
   "execution_count": null,
   "metadata": {},
   "outputs": [],
   "source": []
  }
 ],
 "metadata": {
  "kernelspec": {
   "display_name": "Python 3",
   "language": "python",
   "name": "python3"
  },
  "language_info": {
   "codemirror_mode": {
    "name": "ipython",
    "version": 3
   },
   "file_extension": ".py",
   "mimetype": "text/x-python",
   "name": "python",
   "nbconvert_exporter": "python",
   "pygments_lexer": "ipython3",
   "version": "3.6.5"
  }
 },
 "nbformat": 4,
 "nbformat_minor": 2
}
